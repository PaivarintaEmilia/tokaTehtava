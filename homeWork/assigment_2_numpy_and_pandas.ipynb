{
 "cells": [
  {
   "cell_type": "markdown",
   "metadata": {},
   "source": [
    "# Assigment 2\n",
    "\n",
    "Numpy and Pandas"
   ]
  },
  {
   "cell_type": "markdown",
   "metadata": {},
   "source": [
    "# Assigment 2 - Numpy Section"
   ]
  },
  {
   "cell_type": "markdown",
   "metadata": {},
   "source": [
    "Imports for the exercises"
   ]
  },
  {
   "cell_type": "code",
   "execution_count": 1,
   "metadata": {},
   "outputs": [],
   "source": [
    "import numpy as np\n",
    "import pandas as pd"
   ]
  },
  {
   "cell_type": "markdown",
   "metadata": {},
   "source": [
    "### 1.1. Create a random 100x100 matrix using Numpy and calculate the matrix's mean, sum, minimum, and maximum."
   ]
  },
  {
   "cell_type": "code",
   "execution_count": 2,
   "metadata": {},
   "outputs": [
    {
     "data": {
      "text/plain": [
       "array([[-0.11169398, -0.68385617,  0.46816852, ..., -0.5434928 ,\n",
       "        -0.26945739,  1.66721601],\n",
       "       [-1.38874513, -1.40092692, -0.08203733, ...,  1.45115884,\n",
       "         0.73306124, -0.43602645],\n",
       "       [ 0.00873327,  2.21003998, -2.11277945, ..., -0.38526494,\n",
       "        -0.56809339, -0.34840249],\n",
       "       ...,\n",
       "       [-1.34794832, -0.63379905, -0.01950002, ...,  0.36887637,\n",
       "        -0.34873687,  1.39716742],\n",
       "       [-0.45641898,  1.59905121,  2.12525667, ..., -0.46184354,\n",
       "         0.70872413,  0.19237068],\n",
       "       [ 0.08032433, -2.04848272,  0.39387289, ...,  0.14072157,\n",
       "         0.52322873, -0.30148538]], shape=(100, 100))"
      ]
     },
     "execution_count": 2,
     "metadata": {},
     "output_type": "execute_result"
    }
   ],
   "source": [
    "# Create a random 100x100 array\n",
    "random_matrix = np.random.randn(100, 100)\n",
    "random_matrix"
   ]
  },
  {
   "cell_type": "code",
   "execution_count": 3,
   "metadata": {},
   "outputs": [
    {
     "data": {
      "text/plain": [
       "np.float64(0.0258684087029624)"
      ]
     },
     "execution_count": 3,
     "metadata": {},
     "output_type": "execute_result"
    }
   ],
   "source": [
    "# Calculate matrix's mean eli keskiarvo\n",
    "mean = np.mean(random_matrix)\n",
    "mean"
   ]
  },
  {
   "cell_type": "code",
   "execution_count": 4,
   "metadata": {},
   "outputs": [
    {
     "data": {
      "text/plain": [
       "np.float64(258.684087029624)"
      ]
     },
     "execution_count": 4,
     "metadata": {},
     "output_type": "execute_result"
    }
   ],
   "source": [
    "# Calculate matrix's sum eli summa\n",
    "sum = np.sum(random_matrix)\n",
    "sum"
   ]
  },
  {
   "cell_type": "code",
   "execution_count": 6,
   "metadata": {},
   "outputs": [
    {
     "data": {
      "text/plain": [
       "np.float64(-3.362426593261565)"
      ]
     },
     "execution_count": 6,
     "metadata": {},
     "output_type": "execute_result"
    }
   ],
   "source": [
    "# Calculate matrix's minimum eli etsitään taulukon pienintä arvoa\n",
    "minimum = np.min(random_matrix)\n",
    "minimum"
   ]
  },
  {
   "cell_type": "code",
   "execution_count": 7,
   "metadata": {},
   "outputs": [
    {
     "data": {
      "text/plain": [
       "np.float64(3.7558025139660423)"
      ]
     },
     "execution_count": 7,
     "metadata": {},
     "output_type": "execute_result"
    }
   ],
   "source": [
    "# Calculate matrix's maximum eli etsitään taulukon suurinta arvoa\n",
    "maximum = np.max(random_matrix)\n",
    "maximum"
   ]
  },
  {
   "cell_type": "markdown",
   "metadata": {},
   "source": [
    "### 1.2. Simulate 10,000 dice rolls and count how many times each number was rolled."
   ]
  },
  {
   "cell_type": "markdown",
   "metadata": {},
   "source": [
    "Hint: Create the simulation using np.random.randint(). Count occurrences with np.bincount()."
   ]
  },
  {
   "cell_type": "code",
   "execution_count": 28,
   "metadata": {},
   "outputs": [
    {
     "data": {
      "text/plain": [
       "array([6, 4, 5, ..., 5, 5, 4], shape=(10000,), dtype=int32)"
      ]
     },
     "execution_count": 28,
     "metadata": {},
     "output_type": "execute_result"
    }
   ],
   "source": [
    "# 1. Käytä randint toimintoa simuloimaan nopan heittoa 10 000 kertaa\n",
    "dice_roll = np.random.randint(1, 7, 10000)\n",
    "dice_roll"
   ]
  },
  {
   "cell_type": "code",
   "execution_count": null,
   "metadata": {},
   "outputs": [
    {
     "name": "stdout",
     "output_type": "stream",
     "text": [
      "Array: : [1717 1627 1631 1645 1697 1683]\n",
      "1: : 1717\n",
      "2: : 1627\n",
      "3: : 1631\n",
      "4: : 1645\n",
      "5: : 1697\n",
      "6: : 1683\n"
     ]
    }
   ],
   "source": [
    "# Lasketaan kuinka monta kertaa numeroita tulee heitoilla\n",
    "dice_results = np.bincount(dice_roll)[1:]\n",
    "# Tulostukset\n",
    "print(f'Array: : {dice_results}')\n",
    "print(f'1: : {dice_results[0]}')\n",
    "print(f'2: : {dice_results[1]}')\n",
    "print(f'3: : {dice_results[2]}')\n",
    "print(f'4: : {dice_results[3]}')\n",
    "print(f'5: : {dice_results[4]}')\n",
    "print(f'6: : {dice_results[5]}')"
   ]
  },
  {
   "cell_type": "markdown",
   "metadata": {},
   "source": [
    "# Assigment 2 - Pandas Section - Wildlife Accidents"
   ]
  },
  {
   "cell_type": "markdown",
   "metadata": {},
   "source": [
    "Luetaan csv tiedoston data, jotta sitä voidaan tarkastella tulevissa tehtävissä"
   ]
  },
  {
   "cell_type": "code",
   "execution_count": 2,
   "metadata": {},
   "outputs": [],
   "source": [
    "df = pd.read_csv('riista.csv')"
   ]
  },
  {
   "cell_type": "markdown",
   "metadata": {},
   "source": [
    "### 2.1. Determine in which month the highest number of wildlife accidents occur. Is there a significant difference between months?\n",
    "\n",
    "Group the data by month and count the number of accidents."
   ]
  },
  {
   "cell_type": "code",
   "execution_count": 3,
   "metadata": {},
   "outputs": [
    {
     "data": {
      "text/plain": [
       "month\n",
       "11    10962\n",
       "10     8467\n",
       "12     6382\n",
       "5      6301\n",
       "9      5995\n",
       "6      5551\n",
       "7      4516\n",
       "8      4450\n",
       "1      4110\n",
       "4      3007\n",
       "2      2194\n",
       "3      2007\n",
       "Name: count, dtype: int64"
      ]
     },
     "execution_count": 3,
     "metadata": {},
     "output_type": "execute_result"
    }
   ],
   "source": [
    "# Otetaan month-columni tarkasteluun ja lasketaan kuinka monta kertaa tietty numero 1-12 esiintyy sarakkeessa\n",
    "\n",
    "count_values = df['month'].value_counts()\n",
    "count_values"
   ]
  },
  {
   "cell_type": "markdown",
   "metadata": {},
   "source": [
    "### 2.2. Investigate on which types of roads (highways, main roads, secondary roads, etc.) the most wildlife accidents occur.\n",
    "\n",
    "Group the dataset by road type and wildlife species columns to analyze relationships."
   ]
  },
  {
   "cell_type": "code",
   "execution_count": 5,
   "metadata": {},
   "outputs": [
    {
     "data": {
      "text/plain": [
       "roadType\n",
       "1    102465934\n",
       "2     10125834\n",
       "3    703256903\n",
       "4    315325529\n",
       "5    693119587\n",
       "6    790103898\n",
       "7     34261505\n",
       "8     79472379\n",
       "9    363201335\n",
       "Name: wildlifeSpecies, dtype: int64"
      ]
     },
     "execution_count": 5,
     "metadata": {},
     "output_type": "execute_result"
    }
   ],
   "source": [
    "# Eli halutaan tietää minkälaisella tiellä tapahtuu minkä tyyppisiä wildlife onnettomuuksia tapahtuu?\n",
    "# Saan ohjeesta kuvan, että missä tiellä tapahtuu eniten onnettomuuksia, mutta otin tämän toisen tavan tarkasteluun, \n",
    "# koska silloin voidaan ottaa dataa kahdesta eri sarakkeesta\n",
    "# roadType / wildlifeSpecies\n",
    "animalType_in_roadType = df.groupby('roadType')['wildlifeSpecies'].sum()\n",
    "animalType_in_roadType"
   ]
  },
  {
   "cell_type": "markdown",
   "metadata": {},
   "source": [
    "1. Moottoritie\n",
    "2. Moottoriliikenne tie\n",
    "3. Valtatie\n",
    "4. Kantatie\n",
    "5. Seututie\n",
    "6. Muu maantie\n",
    "7. Puuttuu\n",
    "8. Kunnan tie\n",
    "9. Yksityinen tie"
   ]
  },
  {
   "cell_type": "markdown",
   "metadata": {},
   "source": [
    "### 2.3. Convert the \"eventTime\" column to Pandas datetime format and analyze which times of day are the most dangerous for wildlife accidents.\n",
    "\n",
    "Hint: Create additional columns for the day of the week and the time of day using the pd.to_datetime() function"
   ]
  },
  {
   "cell_type": "markdown",
   "metadata": {},
   "source": [
    "#### Muutetaan columni eventTime pandasin datetime muotoon"
   ]
  },
  {
   "cell_type": "code",
   "execution_count": null,
   "metadata": {},
   "outputs": [
    {
     "data": {
      "text/plain": [
       "0              2017-12-10 14:55:00+00:00\n",
       "1              2017-09-03 10:00:00+00:00\n",
       "2              2017-09-18 04:00:00+00:00\n",
       "3              2017-12-01 15:00:00+00:00\n",
       "4              2017-09-18 04:00:00+00:00\n",
       "                      ...               \n",
       "63937          2021-10-04 06:30:00+00:00\n",
       "63938   2021-09-20 16:51:48.017000+00:00\n",
       "63939          2021-05-29 03:00:00+00:00\n",
       "63940          2021-04-13 11:30:00+00:00\n",
       "63941          2021-06-12 11:15:00+00:00\n",
       "Name: Date, Length: 63942, dtype: datetime64[ns, UTC]"
      ]
     },
     "execution_count": 23,
     "metadata": {},
     "output_type": "execute_result"
    }
   ],
   "source": [
    "df['Date'] = pd.to_datetime(df['eventTime'], utc=True)\n",
    "df['Date']"
   ]
  },
  {
   "cell_type": "markdown",
   "metadata": {},
   "source": [
    "Valitaan datasta kellonajat ja katsotaan mikä kellonaika esiintyy useiten\n",
    "\n",
    "Päivänajat voidaan luokitella:\n",
    "\n",
    "- 00-06 = Yö\n",
    "- 06:01-11:00 = Aamu\n",
    "- 11:01-16:00 = Päivä\n",
    "- 16:01-23:59 = Ilta "
   ]
  },
  {
   "cell_type": "markdown",
   "metadata": {},
   "source": [
    "Tästä lähtien kysyin apua ChatGtp:ltä"
   ]
  },
  {
   "cell_type": "markdown",
   "metadata": {},
   "source": [
    "#### Luokitellaan halutut kellonajat"
   ]
  },
  {
   "cell_type": "code",
   "execution_count": 24,
   "metadata": {},
   "outputs": [],
   "source": [
    "bins = [0, 6, 11, 16, 24]\n",
    "labels = [\"Yö\", \"Aamu\", \"Päivä\", \"Ilta\"]"
   ]
  },
  {
   "cell_type": "markdown",
   "metadata": {},
   "source": [
    "#### Luodaan uusi sarake, johon lisätään uudet ajat eli tunnit ja minuutit\n",
    "\n",
    "Selitys:\n",
    "\n",
    "- bins = [0, 6, 11, 16, 24]: Tämä määrittää aikarajat. Tässä on 5 rajaa, mutta 4 luokkaa, koska meillä on 4 aikaväliä (Yö, Aamu, Päivä, Ilta).\n",
    "- labels = ['Yö', 'Aamu', 'Päivä', 'Ilta']: Tämä on listassa, joka sisältää neljä nimitystä aikarajoille.\n",
    "- right=False: Tämä varmistaa, että aikaraja on vasemmalta avoin (esim. 6 ei kuulu \"Yö\"-kategoriaan, mutta kuuluu \"Aamu\"-kategoriaan)."
   ]
  },
  {
   "cell_type": "code",
   "execution_count": 25,
   "metadata": {},
   "outputs": [
    {
     "data": {
      "text/plain": [
       "0        Päivä\n",
       "1         Aamu\n",
       "2           Yö\n",
       "3        Päivä\n",
       "4           Yö\n",
       "         ...  \n",
       "63937     Aamu\n",
       "63938     Ilta\n",
       "63939       Yö\n",
       "63940    Päivä\n",
       "63941    Päivä\n",
       "Name: time_of_the_day, Length: 63942, dtype: category\n",
       "Categories (4, object): ['Yö' < 'Aamu' < 'Päivä' < 'Ilta']"
      ]
     },
     "execution_count": 25,
     "metadata": {},
     "output_type": "execute_result"
    }
   ],
   "source": [
    "df['time_of_the_day'] = pd.cut(df['Date'].dt.hour + df['Date'].dt.minute / 60, bins=bins, labels=labels, right=False)\n",
    "df['time_of_the_day']"
   ]
  },
  {
   "cell_type": "markdown",
   "metadata": {},
   "source": [
    "#### Lasketaan monta kertaa kukin luokka esiintyy (label)"
   ]
  },
  {
   "cell_type": "code",
   "execution_count": 26,
   "metadata": {},
   "outputs": [
    {
     "data": {
      "text/plain": [
       "time_of_the_day\n",
       "Ilta     24234\n",
       "Yö       14698\n",
       "Päivä    13051\n",
       "Aamu     11959\n",
       "Name: count, dtype: int64"
      ]
     },
     "execution_count": 26,
     "metadata": {},
     "output_type": "execute_result"
    }
   ],
   "source": [
    "count_times = df['time_of_the_day'].value_counts()\n",
    "count_times"
   ]
  }
 ],
 "metadata": {
  "kernelspec": {
   "display_name": "Python 3",
   "language": "python",
   "name": "python3"
  },
  "language_info": {
   "codemirror_mode": {
    "name": "ipython",
    "version": 3
   },
   "file_extension": ".py",
   "mimetype": "text/x-python",
   "name": "python",
   "nbconvert_exporter": "python",
   "pygments_lexer": "ipython3",
   "version": "3.11.0"
  }
 },
 "nbformat": 4,
 "nbformat_minor": 2
}
