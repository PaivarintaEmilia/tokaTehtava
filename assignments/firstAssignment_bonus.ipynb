{
 "cells": [
  {
   "cell_type": "markdown",
   "metadata": {},
   "source": [
    "# 1. osan Bonus tehtävä\n",
    "\n",
    "⦁\tLasketaan yleisin elementti joko nominal tai ordinal kolumneista"
   ]
  },
  {
   "cell_type": "markdown",
   "metadata": {},
   "source": [
    "#### Importit"
   ]
  },
  {
   "cell_type": "code",
   "execution_count": 1,
   "metadata": {},
   "outputs": [],
   "source": [
    "# Importti moodin laskemista varten\n",
    "from collections import Counter"
   ]
  },
  {
   "cell_type": "markdown",
   "metadata": {},
   "source": [
    "#### Luodaan dictionary"
   ]
  },
  {
   "cell_type": "code",
   "execution_count": 2,
   "metadata": {},
   "outputs": [],
   "source": [
    "data_types_bonus = {\"Discrete\": [0, 1, 2, 3, 4], \"Continous\": [22, 44, 13, 33, 26], \"Nominal\": [\"Ikea\", \"Verkkokauppa\", \"Lidl\", \"S-Market\", \"Ikea\", \"Lidl\", \"Lidl\"], \"Ordinal\": [\"Erittäin huono\", \"Todella hyvä\", \"Todella hyvä\", \"Huono\", \"Keskiverto\", \"Hyvä\", \"Todella hyvä\"]}"
   ]
  },
  {
   "cell_type": "markdown",
   "metadata": {},
   "source": [
    "#### Luodaan funktio, joka ottaa vastaan dictionaryn sekä valitun kolumnin\n",
    "\n",
    "Funktiossa tarkastellaan annettua kolumnia ja lasketaan moneen kertaan eri elementit ilmentyvät eri kolumnien taulukoissa. Tämän jälkeen lasketaan yleisin elementti. "
   ]
  },
  {
   "cell_type": "code",
   "execution_count": 4,
   "metadata": {},
   "outputs": [
    {
     "name": "stdout",
     "output_type": "stream",
     "text": [
      "freq:  Counter({'Lidl': 3, 'Ikea': 2, 'Verkkokauppa': 1, 'S-Market': 1})\n",
      "Nominal moodi: ('Lidl', 3)\n",
      "freq:  Counter({'Todella hyvä': 3, 'Erittäin huono': 1, 'Huono': 1, 'Keskiverto': 1, 'Hyvä': 1})\n",
      "Ordinal moodi: ('Todella hyvä', 3)\n"
     ]
    }
   ],
   "source": [
    "class Moodi:\n",
    "  def __init__(self, dictionary, column_name):\n",
    "    self.dictionary = dictionary\n",
    "    self.column_name = column_name\n",
    "\n",
    "  def moodi(self):\n",
    "      column = self.dictionary[self.column_name]\n",
    "      if not column:\n",
    "         print(\"No such column. Check the given input.\")\n",
    "      # Lasketaan kuinka monta kertaa kukin arvo esiintyy. Palauttaa olion, jossa avaimina oovat arvot ja arvoina niiden lukumäärät\n",
    "      calculate_frequencies = Counter(column) \n",
    "      print(\"freq: \", calculate_frequencies)\n",
    "      # Tämä on Counterin olion metodi, joka palautta n yleisimmän arvon listana Pythonin tuplina\n",
    "      # Tästä valitaan ensimmäinen tuple ja tuplen ensimmäinen elementti eli kyseinen arvo\n",
    "      calculate_moodi = calculate_frequencies.most_common(1)[0]\n",
    "      return calculate_moodi\n",
    "\n",
    "\n",
    "\n",
    "\n",
    "moodi_first = Moodi(data_types_bonus, \"Nominal\")\n",
    "moodi_second = Moodi(data_types_bonus, \"Ordinal\")\n",
    "\n",
    "print(f\"Nominal moodi: {moodi_first.moodi()}\")\n",
    "print(f\"Ordinal moodi: {moodi_second.moodi()}\")\n"
   ]
  }
 ],
 "metadata": {
  "kernelspec": {
   "display_name": ".venv",
   "language": "python",
   "name": "python3"
  },
  "language_info": {
   "codemirror_mode": {
    "name": "ipython",
    "version": 3
   },
   "file_extension": ".py",
   "mimetype": "text/x-python",
   "name": "python",
   "nbconvert_exporter": "python",
   "pygments_lexer": "ipython3",
   "version": "3.12.0"
  }
 },
 "nbformat": 4,
 "nbformat_minor": 2
}
