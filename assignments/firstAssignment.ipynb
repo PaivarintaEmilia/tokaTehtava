{
 "cells": [
  {
   "cell_type": "markdown",
   "metadata": {},
   "source": [
    "# Create a Python dictionary that contains four different data types, each stored in its own list:\n",
    "\n",
    "⦁\tDiscrete (voidaan laskea)\n",
    "⦁\tContinuous (lämpötila, paino, mitta) --> Tehtävässä mitta cm \n",
    "⦁\tNominal (categorioita, joita ei voida laittaa järjestykseen)  --> tehtävssä yritykset\n",
    "⦁\tOrdinal (Categorioita järjestettynä)\n"
   ]
  },
  {
   "cell_type": "code",
   "execution_count": 7,
   "metadata": {},
   "outputs": [],
   "source": [
    "# Luodaan dictionary\n",
    "data_types = {\"Discrete\": [0, 1, 2, 3, 4], \"Continous\": [22, 44, 13, 33, 26], \"Nominal\": [\"Ikea\", \"Verkkokauppa\", \"Lidl\", \"S-Market\"], \"Ordinal\": [\"Erittäin huono\", \"Huono\", \"Keskiverto\", \"Hyvä\", \"Todella hyvä\"]}"
   ]
  },
  {
   "cell_type": "markdown",
   "metadata": {},
   "source": [
    "# Luodaan funktio, joka laskee valitun numeraalisen kategorian mean eli keskiarvon\n",
    "\n",
    "- Input parametreina toimii dictionary sekä categorian nimi"
   ]
  },
  {
   "cell_type": "code",
   "execution_count": 8,
   "metadata": {},
   "outputs": [],
   "source": [
    "# Importti meanin laskemista varten\n",
    "import statistics"
   ]
  },
  {
   "cell_type": "code",
   "execution_count": 11,
   "metadata": {},
   "outputs": [
    {
     "name": "stdout",
     "output_type": "stream",
     "text": [
      "Continuous: 27.6\n",
      "Discrete: 2\n"
     ]
    }
   ],
   "source": [
    "# Luodaan funktio ja tulostetaan vastaus\n",
    "\n",
    "class Mean:\n",
    "  def __init__(self, dictionary, column_name):\n",
    "    self.dictionary = dictionary\n",
    "    self.column_name = column_name\n",
    "\n",
    "  def numerical_mean(self):\n",
    "      #eli pitää ensin saada dictionaryn oikea kategoria ja sitten laskea sen arvon mean\n",
    "\n",
    "      category = self.dictionary[self.column_name]\n",
    "      calculated_mean = statistics.mean(category)\n",
    "      return calculated_mean\n",
    "\n",
    "\n",
    "\n",
    "\n",
    "calculation_first = Mean(data_types, \"Continous\")\n",
    "calculation_second = Mean(data_types, \"Discrete\")\n",
    "\n",
    "print(f\"Continuous mean: {calculation_first.numerical_mean()}\")\n",
    "print(f\"Discrete mean: {calculation_second.numerical_mean()}\")\n"
   ]
  }
 ],
 "metadata": {
  "kernelspec": {
   "display_name": ".venv",
   "language": "python",
   "name": "python3"
  },
  "language_info": {
   "codemirror_mode": {
    "name": "ipython",
    "version": 3
   },
   "file_extension": ".py",
   "mimetype": "text/x-python",
   "name": "python",
   "nbconvert_exporter": "python",
   "pygments_lexer": "ipython3",
   "version": "3.12.0"
  }
 },
 "nbformat": 4,
 "nbformat_minor": 2
}
